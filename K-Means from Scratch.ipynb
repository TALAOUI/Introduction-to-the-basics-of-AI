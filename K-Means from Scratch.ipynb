{
 "cells": [
  {
   "cell_type": "markdown",
   "metadata": {},
   "source": [
    "So far, we have learnt about the introduction to K-Means algorithm. We have learnt in detail about the mathematics behind the K-means clustering algorithm and have learnt how Euclidean distance method is used in grouping the data items in K number of clusters. Here were are implementing K-means clustering from scratch using python. But the problem is how to choose the number of clusters? In this example, we are assigning the number of clusters ourselves and later we will be discussing about various ways of finding best number of clusters. This code is refenced from https://muthu.co/mathematics-behind-k-mean-clustering-algorithm/\n",
    "\n",
    "We will first import the required libraries:"
   ]
  },
  {
   "cell_type": "code",
   "execution_count": 23,
   "metadata": {},
   "outputs": [],
   "source": [
    "import pandas as pd\n",
    "import numpy as np\n",
    "import random as rd\n",
    "import matplotlib.pyplot as plt\n",
    "import math"
   ]
  },
  {
   "cell_type": "code",
   "execution_count": null,
   "metadata": {},
   "outputs": [],
   "source": [
    "class K_Means:\n",
    "    \n",
    "    def __init__(self, k=2, tolerance = 0.001, max_iter = 500):\n",
    "        self.k = k\n",
    "        self.max_iterations = max_iter\n",
    "        self.tolerance = tolerance"
   ]
  },
  {
   "cell_type": "markdown",
   "metadata": {},
   "source": [
    "We have defined a kmeans class  with init consisting default value of k as 2, error tolerance as 0.001 and maximum iteration as 500.  \n",
    "Before diving to the code, lets remember some mathematical terms involved in K-means clustering:- centroids & euclidean distance. On a quick note centroid of a data is the average or mean of the data and euclidean distance is the distance between two points in the coordinate plane calculated using pythagoras theorem. "
   ]
  },
  {
   "cell_type": "code",
   "execution_count": null,
   "metadata": {},
   "outputs": [],
   "source": [
    "    def euclidean_distance(self, point1, point2):\n",
    "            #return math.sqrt((point1[0]-point2[0])**2 + (point1[1]-point2[1])**2 + (point1[2]-point2[2])**2)   #sqrt((x1-x2)^2 + (y1-y2)^2)\n",
    "            return np.linalg.norm(point1-point2, axis=0)"
   ]
  },
  {
   "cell_type": "markdown",
   "metadata": {},
   "source": [
    "We find the euclidean distance from each point to all the centroids. If you look for efficiency it is better to use the numpy function (np.linalg.norm(point1-point2, axis=0))"
   ]
  },
  {
   "cell_type": "code",
   "execution_count": null,
   "metadata": {},
   "outputs": [],
   "source": [
    "    def fit(self, data):\n",
    "        self.centroids = {}\n",
    "        for i in range(self.k):\n",
    "            self.centroids[i] = data[i]"
   ]
  },
  {
   "cell_type": "markdown",
   "metadata": {},
   "source": [
    "There are various methods of assigning k - centroid initially. Mostly used is random selection but lets go with the most basic way.  We assign first k points from dataset as the initial centroids. "
   ]
  },
  {
   "cell_type": "code",
   "execution_count": null,
   "metadata": {},
   "outputs": [],
   "source": [
    "       for i in range(self.max_iterations):\n",
    "            \n",
    "            self.classes = {}\n",
    "            for j in range(self.k):\n",
    "                self.classes[j] = []\n",
    "                \n",
    "            \n",
    "            for point in data:\n",
    "                distances = []\n",
    "                for index in self.centroids:\n",
    "                    distances.append(self.euclidean_distance(point,self.centroids[index]))\n",
    "                cluster_index = distances.index(min(distances))\n",
    "                self.classes[cluster_index].append(point)"
   ]
  },
  {
   "cell_type": "markdown",
   "metadata": {},
   "source": [
    "Till now , we have defined kmeans class and initialized some default parameters. We have defined euclidean distance calculation function and we have also assigned initial k clusters. Now, In order to know which cluster an data items belongs to, we are calculating euclidean distance from the data items to each centroid. Data item closest to the cluster belongs to that respective cluster."
   ]
  },
  {
   "cell_type": "code",
   "execution_count": null,
   "metadata": {},
   "outputs": [],
   "source": [
    "            previous = dict(self.centroids)\n",
    "            for cluster_index in self.classes:\n",
    "                self.centroids[cluster_index] = np.average(self.classes[cluster_index], axis = 0)\n",
    "                \n",
    "            isOptimal = True\n",
    "            \n",
    "            for centroid in self.centroids:\n",
    "                original_centroid = previous[centroid]\n",
    "                curr = self.centroids[centroid]\n",
    "                if np.sum((curr - original_centroid)/original_centroid * 100.0) > self.tolerance:\n",
    "                    isOptimal = False\n",
    "            if isOptimal:\n",
    "                break"
   ]
  },
  {
   "cell_type": "markdown",
   "metadata": {},
   "source": [
    "At the end of the first iteration, the centroid values are recalculated, usually taking the arithmetic mean of all points in the cluster.  In every iteration, new centroid values are calculated until successive iterations provide the same centroid value.  \n",
    "\n",
    "We've now completed the K Means scratch code of this Machine Learning tutorial series. Now lets test our code by clustering with random  generated data:"
   ]
  },
  {
   "cell_type": "code",
   "execution_count": null,
   "metadata": {},
   "outputs": [],
   "source": [
    "    #generate dummy cluster datasets\n",
    "    # Set three centers, the model should predict similar results\n",
    "    center_1 = np.array([1,1])\n",
    "    center_2 = np.array([5,5])\n",
    "    center_3 = np.array([8,1])\n",
    "\n",
    "    # Generate random data and center it to the three centers\n",
    "    cluster_1 = np.random.randn(100, 2) + center_1\n",
    "    cluster_2 = np.random.randn(100,2) + center_2\n",
    "    cluster_3 = np.random.randn(100,2) + center_3\n",
    "\n",
    "    data = np.concatenate((cluster_1, cluster_2, cluster_3), axis = 0)"
   ]
  },
  {
   "cell_type": "markdown",
   "metadata": {},
   "source": [
    "Here we have created 3 groups of data of two dimension with different centre. We have defined the value of k as 3. Now lets fit the model created from scratch."
   ]
  },
  {
   "cell_type": "code",
   "execution_count": null,
   "metadata": {},
   "outputs": [],
   "source": [
    "    k_means = K_Means(K)\n",
    "    k_means.fit(data)\n",
    "    \n",
    "    \n",
    "    # Plotting starts here\n",
    "    colors = 10*[\"r\", \"g\", \"c\", \"b\", \"k\"]\n",
    "\n",
    "    for centroid in k_means.centroids:\n",
    "        plt.scatter(k_means.centroids[centroid][0], k_means.centroids[centroid][1], s = 130, marker = \"x\")\n",
    "\n",
    "    for cluster_index in k_means.classes:\n",
    "        color = colors[cluster_index]\n",
    "        for features in k_means.classes[cluster_index]:\n",
    "            plt.scatter(features[0], features[1], color = color,s = 30)"
   ]
  },
  {
   "cell_type": "markdown",
   "metadata": {},
   "source": [
    "# Lets combine all the code"
   ]
  },
  {
   "cell_type": "code",
   "execution_count": 26,
   "metadata": {},
   "outputs": [
    {
     "data": {
      "image/png": "[encoded data removed]",
      "text/plain": [
       "<Figure size 432x288 with 1 Axes>"
      ]
     },
     "metadata": {
      "needs_background": "light"
     },
     "output_type": "display_data"
    }
   ],
   "source": [
    "class K_Means:\n",
    "    \n",
    "    def __init__(self, k=2, tolerance = 0.001, max_iter = 500):\n",
    "        self.k = k\n",
    "        self.max_iterations = max_iter\n",
    "        self.tolerance = tolerance\n",
    "    \n",
    "    def euclidean_distance(self, point1, point2):\n",
    "        #return math.sqrt((point1[0]-point2[0])**2 + (point1[1]-point2[1])**2 + (point1[2]-point2[2])**2)   #sqrt((x1-x2)^2 + (y1-y2)^2)\n",
    "        return np.linalg.norm(point1-point2, axis=0)\n",
    "        \n",
    "    def predict(self,data):\n",
    "        distances = [np.linalg.norm(data-self.centroids[centroid]) for centroid in self.centroids]\n",
    "        classification = distances.index(min(distances))\n",
    "        return classification\n",
    "    \n",
    "    def fit(self, data):\n",
    "        self.centroids = {}\n",
    "        for i in range(self.k):\n",
    "            self.centroids[i] = data[i]\n",
    "        \n",
    "        \n",
    "        for i in range(self.max_iterations):\n",
    "            self.classes = {}\n",
    "            for j in range(self.k):\n",
    "                self.classes[j] = []\n",
    "                \n",
    "            for point in data:\n",
    "                distances = []\n",
    "                for index in self.centroids:\n",
    "                    distances.append(self.euclidean_distance(point,self.centroids[index]))\n",
    "                cluster_index = distances.index(min(distances))\n",
    "                self.classes[cluster_index].append(point)\n",
    "            \n",
    "            previous = dict(self.centroids)\n",
    "            for cluster_index in self.classes:\n",
    "                self.centroids[cluster_index] = np.average(self.classes[cluster_index], axis = 0)\n",
    "            \n",
    "\n",
    "                \n",
    "            isOptimal = True\n",
    "            \n",
    "            for centroid in self.centroids:\n",
    "                original_centroid = previous[centroid]\n",
    "                curr = self.centroids[centroid]\n",
    "                if np.sum((curr - original_centroid)/original_centroid * 100.0) > self.tolerance:\n",
    "                    isOptimal = False\n",
    "            if isOptimal:\n",
    "                break\n",
    "\n",
    "\n",
    "                \n",
    "def main():\n",
    "    K=3\n",
    "    center_1 = np.array([1,1])\n",
    "    center_2 = np.array([5,5])\n",
    "    center_3 = np.array([8,1])\n",
    "\n",
    "    # Generate random data and center it to the three centers\n",
    "    cluster_1 = np.random.randn(100, 2) + center_1\n",
    "    cluster_2 = np.random.randn(100,2) + center_2\n",
    "    cluster_3 = np.random.randn(100,2) + center_3\n",
    "\n",
    "    data = np.concatenate((cluster_1, cluster_2, cluster_3), axis = 0)\n",
    "    \n",
    "    k_means = K_Means(K)\n",
    "    k_means.fit(data)\n",
    "    \n",
    "    \n",
    "    # Plotting starts here\n",
    "    colors = 10*[\"r\", \"g\", \"c\", \"b\", \"k\"]\n",
    "\n",
    "    for centroid in k_means.centroids:\n",
    "        plt.scatter(k_means.centroids[centroid][0], k_means.centroids[centroid][1], s = 130, marker = \"x\")\n",
    "\n",
    "    for cluster_index in k_means.classes:\n",
    "        color = colors[cluster_index]\n",
    "        for features in k_means.classes[cluster_index]:\n",
    "            plt.scatter(features[0], features[1], color = color,s = 30)\n",
    "    \n",
    "if __name__ == \"__main__\":\n",
    "    main()\n",
    "            "
   ]
  },
  {
   "cell_type": "markdown",
   "metadata": {},
   "source": [
    "# USING SCIKIT_ LEARN"
   ]
  },
  {
   "cell_type": "code",
   "execution_count": 27,
   "metadata": {},
   "outputs": [
    {
     "data": {
      "text/plain": [
       "<matplotlib.collections.PathCollection at 0x7ff61863b340>"
      ]
     },
     "execution_count": 27,
     "metadata": {},
     "output_type": "execute_result"
    },
    {
     "data": {
      "image/png": "[encoded data removed]",
      "text/plain": [
       "<Figure size 432x288 with 1 Axes>"
      ]
     },
     "metadata": {
      "needs_background": "light"
     },
     "output_type": "display_data"
    }
   ],
   "source": [
    "from sklearn.cluster import KMeans\n",
    "center_1 = np.array([1,1])\n",
    "center_2 = np.array([5,5])\n",
    "center_3 = np.array([8,1])\n",
    "\n",
    "    # Generate random data and center it to the three centers\n",
    "cluster_1 = np.random.randn(100,2) + center_1\n",
    "cluster_2 = np.random.randn(100,2) + center_2\n",
    "cluster_3 = np.random.randn(100,2) + center_3\n",
    "\n",
    "data = np.concatenate((cluster_1, cluster_2, cluster_3), axis = 0)\n",
    "kmeans = KMeans(n_clusters=3)\n",
    "kmeans.fit(data)\n",
    "plt.scatter(data[:,0],data[:,1], c=kmeans.labels_, cmap='rainbow')\n",
    "\n"
   ]
  },
  {
   "cell_type": "code",
   "execution_count": null,
   "metadata": {},
   "outputs": [],
   "source": [
    "Completed !!\n",
    "\n",
    "\n",
    "\n",
    "\n",
    "AIHUBPROJECTS.COM"
   ]
  }
 ],
 "metadata": {
  "kernelspec": {
   "display_name": "Python 3",
   "language": "python",
   "name": "python3"
  },
  "language_info": {
   "codemirror_mode": {
    "name": "ipython",
    "version": 3
   },
   "file_extension": ".py",
   "mimetype": "text/x-python",
   "name": "python",
   "nbconvert_exporter": "python",
   "pygments_lexer": "ipython3",
   "version": "3.8.3"
  }
 },
 "nbformat": 4,
 "nbformat_minor": 4
}
